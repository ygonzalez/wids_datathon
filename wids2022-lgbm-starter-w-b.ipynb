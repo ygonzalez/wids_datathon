{
 "cells": [
  {
   "cell_type": "markdown",
   "metadata": {},
   "source": [
    " # <h1 style='background:#F7B2B0; border:0; color:black'><center>WiDS Datathon 2022 - Energy Consumption Prediction</center></h1> "
   ]
  },
  {
   "cell_type": "markdown",
   "metadata": {},
   "source": [
    "![](https://drive.google.com/uc?id=1hRtZtLamcxuoSADFbuXsGZ-rCLnlffJ-)"
   ]
  },
  {
   "cell_type": "markdown",
   "metadata": {},
   "source": [
    "Climate change is a globally relevant, urgent, and multi-faceted issue heavily impacted by energy policy and infrastructure. Addressing climate change involves mitigation (i.e. mitigating greenhouse gas emissions) and adaptation (i.e. preparing for unavoidable consequences). Mitigation of GHG emissions requires changes to electricity systems, transportation, buildings, industry, and land use.\n",
    "\n",
    "According to a report issued by the International Energy Agency (IEA), the lifecycle of buildings from construction to demolition were responsible for 37% of global energy-related and process-related CO2 emissions in 2020. Yet it is possible to drastically reduce the energy consumption of buildings by a combination of easy-to-implement fixes and state-of-the-art strategies. For example, retrofitted buildings can reduce heating and cooling energy requirements by 50-90 percent. Many of these energy efficiency measures also result in overall cost savings and yield other benefits, such as cleaner air for occupants. This potential can be achieved while maintaining the services that buildings provide.\n",
    "\n",
    "# **<span style=\"color:#F7B2B0;\">Goal</span>**\n",
    " \n",
    "The goal of this competition is to predict the energy consumption using building characteristics and climate and weather variables .\n",
    "\n",
    "# **<span style=\"color:#F7B2B0;\">Data</span>**\n",
    "\n",
    "The WiDS Datathon 2022 focuses on a prediction task involving roughly 100k observations of building energy usage records collected over 7 years and a number of states within the United States. The dataset consists of building characteristics (e.g. floor area, facility type etc), weather data for the location of the building (e.g. annual average temperature, annual total precipitation etc) as well as the energy usage for the building and the given year, measured as Site Energy Usage Intensity (Site EUI). Each row in the data corresponds to the a single building observed in a given year. Your task is to predict the Site EUI for each row, given the characteristics of the building and the weather data for the location of the building.\n",
    "\n",
    "\n",
    "**Files**\n",
    "> - ``` train.csv``` - the training dataset where the observed values of the Site EUI for each row is provided\n",
    "> - ```test.csv``` - the test dataset where we withhold the observed values of the Site EUI for each row. \n",
    "> - ```sample_submission.csv``` - a sample submission file in the correct format\n",
    "\n",
    "**Columns**\n",
    "\n",
    "> - ```id:``` building id\n",
    "\n",
    "> - ```Year_Factor:``` anonymized year in which the weather and energy usage factors were observed\n",
    "\n",
    "> - ```State_Factor:``` anonymized state in which the building is located\n",
    "\n",
    "> - ```building_class:``` building classification\n",
    "\n",
    "> - ```facility_type:``` building usage type\n",
    "\n",
    "> - ```floor_area:``` floor area (in square feet) of the building\n",
    "\n",
    "> - ```year_built:``` year in which the building was constructed\n",
    "\n",
    "> - ```energy_star_rating:``` the energy star rating of the building\n",
    "\n",
    "> - ```ELEVATION:``` elevation of the building location\n",
    "\n",
    "> - ```january_min_temp:``` minimum temperature in January (in Fahrenheit) at the location of the building\n",
    "\n",
    "> - ```january_avg_temp:``` average temperature in January (in Fahrenheit) at the location of the building\n",
    "\n",
    "> - ```january_max_temp:``` maximum temperature in January (in Fahrenheit) at the location of the building\n",
    "\n",
    "> - ```cooling_degree_days:``` cooling degree day for a given day is the number of degrees where the daily average temperature exceeds 65 degrees Fahrenheit. Each month is summed to produce an annual total at the location of the building.\n",
    "\n",
    "> - ```heating_degree_days:``` heating degree day for a given day is the number of degrees where the daily average temperature falls under 65 degrees Fahrenheit. Each month is summed to produce an annual total at the location of the building.\n",
    "\n",
    "> - ```precipitation_inches:``` annual precipitation in inches at the location of the building\n",
    "\n",
    "> - ```snowfall_inches:``` annual snowfall in inches at the location of the building\n",
    "\n",
    "> - ```snowdepth_inches:``` annual snow depth in inches at the location of the building\n",
    "\n",
    "> - ```avg_temp:``` average temperature over a year at the location of the building\n",
    "\n",
    "> - ```days_below_30F:``` total number of days below 30 degrees Fahrenheit at the location of the building\n",
    "\n",
    "> - ```days_below_20F:``` total number of days below 20 degrees Fahrenheit at the location of the building\n",
    "\n",
    "> - ```days_below_10F:``` total number of days below 10 degrees Fahrenheit at the location of the building\n",
    "\n",
    "> - ```days_below_0F:``` total number of days below 0 degrees Fahrenheit at the location of the building\n",
    "\n",
    "> - ```days_above_80F:``` total number of days above 80 degrees Fahrenheit at the location of the building\n",
    "\n",
    "> - ```days_above_90F:``` total number of days above 90 degrees Fahrenheit at the location of the building\n",
    "\n",
    "> - ```days_above_100F:``` total number of days above 100 degrees Fahrenheit at the location of the building\n",
    "\n",
    "> - ```days_above_110F:``` total number of days above 110 degrees Fahrenheit at the location of the building\n",
    "\n",
    "> - ```direction_max_wind_speed:``` wind direction for maximum wind speed at the location of the building. Given in 360-degree compass point directions (e.g. 360 = north, 180 = south, etc.).\n",
    "\n",
    "> - ```direction_peak_wind_speed:``` wind direction for peak wind gust speed at the location of the building. Given in 360-degree compass point directions (e.g. 360 = north, 180 = south, etc.).\n",
    "\n",
    "> - ```max_wind_speed:``` maximum wind speed at the location of the building\n",
    "\n",
    "> - ```days_with_fog:``` number of days with fog at the location of the building\n",
    "\n",
    "\n",
    "# **<span style=\"color:#F7B2B0;\">Evaluation Metric</span>**\n",
    "\n",
    "The evaluation metric for this competition is Root Mean Squared Error (RMSE). The RMSE is commonly used measure of the differences between predicted values provided by a model and the actual observed values. \n",
    "\n"
   ]
  },
  {
   "cell_type": "markdown",
   "metadata": {},
   "source": [
    "<img src=\"https://camo.githubusercontent.com/dd842f7b0be57140e68b2ab9cb007992acd131c48284eaf6b1aca758bfea358b/68747470733a2f2f692e696d6775722e636f6d2f52557469567a482e706e67\">\n",
    "\n",
    "> I will be integrating W&B for visualizations and logging artifacts!\n",
    "> \n",
    "> [WiDS Datathon 2022 Energy Consumption Prediction Project on W&B Dashboard](https://wandb.ai/usharengaraju/WiDSDatathon2022)\n",
    "> \n",
    "> - To get the API key, create an account in the [website](https://wandb.ai/site) .\n",
    "> - Use secrets to use API Keys more securely \n",
    "\n",
    "<span style=\"color: #000508; font-family: Segoe UI; font-size: 1.2em; font-weight: 300;\"> Weights & Biases (W&B) is a set of machine learning tools that helps you build better models faster. <strong>Kaggle competitions require fast-paced model development and evaluation</strong>. There are a lot of components: exploring the training data, training different models, combining trained models in different combinations (ensembling), and so on.</span>\n",
    "\n",
    "> <span style=\"color: #000508; font-family: Segoe UI; font-size: 1.2em; font-weight: 300;\">⏳ Lots of components = Lots of places to go wrong = Lots of time spent debugging</span>\n",
    "\n",
    "<span style=\"color: #000508; font-family: Segoe UI; font-size: 1.2em; font-weight: 300;\">W&B can be useful for Kaggle competition with it's lightweight and interoperable tools:</span>\n",
    "\n",
    "* <span style=\"color: #000508; font-family: Segoe UI; font-size: 1.2em; font-weight: 300;\">Quickly track experiments,<br></span>\n",
    "* <span style=\"color: #000508; font-family: Segoe UI; font-size: 1.2em; font-weight: 300;\">Version and iterate on datasets, <br></span>\n",
    "* <span style=\"color: #000508; font-family: Segoe UI; font-size: 1.2em; font-weight: 300;\">Evaluate model performance,<br></span>\n",
    "* <span style=\"color: #000508; font-family: Segoe UI; font-size: 1.2em; font-weight: 300;\">Reproduce models,<br></span>\n",
    "* <span style=\"color: #000508; font-family: Segoe UI; font-size: 1.2em; font-weight: 300;\">Visualize results and spot regressions,<br></span>\n",
    "* <span style=\"color: #000508; font-family: Segoe UI; font-size: 1.2em; font-weight: 300;\">Share findings with colleagues.</span>\n",
    "\n",
    "<span style=\"color: #000508; font-family: Segoe UI; font-size: 1.2em; font-weight: 300;\">To learn more about Weights and Biases check out this <strong><a href=\"https://www.kaggle.com/ayuraj/experiment-tracking-with-weights-and-biases\">kernel</a></strong>.</span>\n",
    "\n",
    "![img](https://i.imgur.com/BGgfZj3.png)"
   ]
  },
  {
   "cell_type": "code",
   "execution_count": 1,
   "metadata": {},
   "outputs": [
    {
     "name": "stdout",
     "output_type": "stream",
     "text": [
      "If you want to use your W&B account, go to Add-ons -> Secrets and provide your W&B access token. Use the Label name as wandb_api. \n",
      "Get your W&B access token from here: https://wandb.ai/authorize\n"
     ]
    }
   ],
   "source": [
    "try:\n",
    "    from kaggle_secrets import UserSecretsClient\n",
    "    user_secrets = UserSecretsClient()\n",
    "    secret_value_0 = user_secrets.get_secret(\"api_key\")\n",
    "    wandb.login(key=secret_value_0)\n",
    "    anony=None\n",
    "except:\n",
    "    anony = \"must\"\n",
    "    print('If you want to use your W&B account, go to Add-ons -> Secrets and provide your W&B access token. Use the Label name as wandb_api. \\nGet your W&B access token from here: https://wandb.ai/authorize')\n",
    "    \n",
    "CONFIG = dict(competition = 'WiDSDatathon2022',_wandb_kernel = 'tensorgirl')"
   ]
  },
  {
   "cell_type": "code",
   "execution_count": 2,
   "metadata": {
    "_kg_hide-input": true,
    "tags": []
   },
   "outputs": [
    {
     "ename": "ModuleNotFoundError",
     "evalue": "No module named 'optuna'",
     "output_type": "error",
     "traceback": [
      "\u001b[0;31m---------------------------------------------------------------------------\u001b[0m",
      "\u001b[0;31mModuleNotFoundError\u001b[0m                       Traceback (most recent call last)",
      "\u001b[0;32m<ipython-input-2-3ab77a2ebed9>\u001b[0m in \u001b[0;36m<module>\u001b[0;34m\u001b[0m\n\u001b[1;32m     20\u001b[0m \u001b[0;32mfrom\u001b[0m \u001b[0msklearn\u001b[0m\u001b[0;34m.\u001b[0m\u001b[0mpreprocessing\u001b[0m \u001b[0;32mimport\u001b[0m \u001b[0mStandardScaler\u001b[0m\u001b[0;34m\u001b[0m\u001b[0;34m\u001b[0m\u001b[0m\n\u001b[1;32m     21\u001b[0m \u001b[0;34m\u001b[0m\u001b[0m\n\u001b[0;32m---> 22\u001b[0;31m \u001b[0;32mimport\u001b[0m \u001b[0moptuna\u001b[0m\u001b[0;34m.\u001b[0m\u001b[0mintegration\u001b[0m\u001b[0;34m.\u001b[0m\u001b[0mlightgbm\u001b[0m \u001b[0;32mas\u001b[0m \u001b[0mlgbm\u001b[0m\u001b[0;34m\u001b[0m\u001b[0;34m\u001b[0m\u001b[0m\n\u001b[0m\u001b[1;32m     23\u001b[0m \u001b[0;32mimport\u001b[0m \u001b[0moptuna\u001b[0m\u001b[0;34m\u001b[0m\u001b[0;34m\u001b[0m\u001b[0m\n\u001b[1;32m     24\u001b[0m \u001b[0;34m\u001b[0m\u001b[0m\n",
      "\u001b[0;31mModuleNotFoundError\u001b[0m: No module named 'optuna'"
     ]
    }
   ],
   "source": [
    "import os\n",
    "import gc\n",
    "import copy\n",
    "\n",
    "import numpy as np # linear algebra\n",
    "import pandas as pd # data processing, CSV file I/O (e.g. pd.read_csv)\n",
    "from sklearn.preprocessing import LabelEncoder\n",
    "from sklearn.model_selection import KFold ,RepeatedKFold\n",
    "from sklearn.metrics import mean_squared_error\n",
    "import lightgbm as lgb\n",
    "\n",
    "import matplotlib.pyplot as plt\n",
    "plt.rcParams.update({'font.size': 18})\n",
    "plt.style.use('ggplot')\n",
    "import seaborn as sns\n",
    "from scipy import stats\n",
    "\n",
    "import shap\n",
    "\n",
    "from sklearn.preprocessing import StandardScaler\n",
    "\n",
    "import optuna.integration.lightgbm as lgbm\n",
    "import optuna\n",
    "\n",
    "\n",
    "import warnings\n",
    "warnings.filterwarnings('ignore')\n",
    "\n",
    "import wandb"
   ]
  },
  {
   "cell_type": "code",
   "execution_count": null,
   "metadata": {
    "tags": []
   },
   "outputs": [],
   "source": [
    "train = pd.read_csv(\"../input/widsdatathon2022/train.csv\")\n",
    "test = pd.read_csv(\"../input/widsdatathon2022/test.csv\")\n",
    "print(\"Number of train samples are\",train.shape)\n",
    "print(\"Number of test samples are\",test.shape)\n",
    "categorical_features = ['State_Factor', 'building_class', 'facility_type']\n",
    "numerical_features=train.select_dtypes('number').columns"
   ]
  },
  {
   "cell_type": "code",
   "execution_count": null,
   "metadata": {
    "tags": []
   },
   "outputs": [],
   "source": [
    "train.head()"
   ]
  },
  {
   "cell_type": "markdown",
   "metadata": {},
   "source": [
    "# **<span style=\"color:#F7B2B0;\">Missing Values</span>**"
   ]
  },
  {
   "cell_type": "code",
   "execution_count": null,
   "metadata": {
    "tags": []
   },
   "outputs": [],
   "source": [
    "plt.figure(figsize = (25,11))\n",
    "sns.heatmap(train.isna().values, cmap = ['#ffd514','#ff355d'], xticklabels=train.columns)\n",
    "plt.title(\"Missing values in training Data\", size=20);"
   ]
  },
  {
   "cell_type": "code",
   "execution_count": null,
   "metadata": {
    "tags": []
   },
   "outputs": [],
   "source": [
    "#code copied from https://www.kaggle.com/shrutisaxena/wids2022-starter-code\n",
    "missing_columns = [col for col in train.columns if train[col].isnull().any()]\n",
    "missingvalues_count =train.isna().sum()\n",
    "missingValues_df = pd.DataFrame(missingvalues_count.rename('Null Values Count')).loc[missingvalues_count.ne(0)]\n",
    "missingValues_df .style.background_gradient(cmap=\"Pastel1\")"
   ]
  },
  {
   "cell_type": "code",
   "execution_count": null,
   "metadata": {
    "tags": []
   },
   "outputs": [],
   "source": [
    "# basic stats of features\n",
    "train.describe().style.background_gradient(cmap=\"Pastel1\")"
   ]
  },
  {
   "cell_type": "markdown",
   "metadata": {},
   "source": [
    "# **<span style=\"color:#F7B2B0;\">Target variable distribution</span>**"
   ]
  },
  {
   "cell_type": "code",
   "execution_count": null,
   "metadata": {
    "tags": []
   },
   "outputs": [],
   "source": [
    "plt.figure(figsize=(15, 7))\n",
    "plt.subplot(121)\n",
    "sns.kdeplot(train.site_eui , color = \"#ffd514\")\n",
    "plt.subplot(122)\n",
    "sns.boxplot(train.site_eui , color = \"#ff355d\")\n"
   ]
  },
  {
   "cell_type": "code",
   "execution_count": null,
   "metadata": {
    "execution": {
     "iopub.execute_input": "2022-01-07T17:05:08.933637Z",
     "iopub.status.busy": "2022-01-07T17:05:08.933315Z",
     "iopub.status.idle": "2022-01-07T17:05:09.423497Z",
     "shell.execute_reply": "2022-01-07T17:05:09.422594Z",
     "shell.execute_reply.started": "2022-01-07T17:05:08.933605Z"
    }
   },
   "outputs": [],
   "source": [
    "res = stats.probplot(train['site_eui'], plot=plt)"
   ]
  },
  {
   "cell_type": "code",
   "execution_count": null,
   "metadata": {
    "execution": {
     "iopub.execute_input": "2022-01-07T17:05:09.426286Z",
     "iopub.status.busy": "2022-01-07T17:05:09.425888Z",
     "iopub.status.idle": "2022-01-07T17:05:09.436662Z",
     "shell.execute_reply": "2022-01-07T17:05:09.4358Z",
     "shell.execute_reply.started": "2022-01-07T17:05:09.426247Z"
    }
   },
   "outputs": [],
   "source": [
    "def kdeplot_features(df_train,df_test, feature, title):\n",
    "    '''Takes a column from the dataframe and plots the distribution (after count).'''\n",
    "    \n",
    "    values_train = df_train[feature].to_numpy()\n",
    "    values_test = df_test[feature].to_numpy()  \n",
    "     \n",
    "    plt.figure(figsize = (18, 3))\n",
    "    \n",
    "    sns.kdeplot(values_train, color = '#ffd514')\n",
    "    sns.kdeplot(values_test, color = '#ff355d')\n",
    "    \n",
    "    plt.title(title, fontsize=15)\n",
    "    plt.legend()\n",
    "    plt.show();\n",
    "    \n",
    "    del values_train , values_test\n",
    "    gc.collect()\n",
    "    \n",
    "def countplot_features(df_train, feature, title):\n",
    "    '''Takes a column from the dataframe and plots the distribution (after count).'''\n",
    "    \n",
    "           \n",
    "    plt.figure(figsize = (10, 5))\n",
    "    \n",
    "    sns.countplot(df_train[feature], color = '#ff355d')\n",
    "        \n",
    "    plt.title(title, fontsize=15)    \n",
    "    plt.show();\n",
    "    \n",
    "        \n",
    "def create_wandb_hist(x_data=None, x_name=None, title=None, log=None):\n",
    "    '''Create and save histogram in W&B Environment.\n",
    "    x_data: Pandas Series containing x values\n",
    "    x_name: strings containing axis name\n",
    "    title: title of the graph\n",
    "    log: string containing name of log'''\n",
    "    \n",
    "    data = [[x] for x in x_data]\n",
    "    table = wandb.Table(data=data, columns=[x_name])\n",
    "    wandb.log({log : wandb.plot.histogram(table, x_name, title=title)})\n"
   ]
  },
  {
   "cell_type": "markdown",
   "metadata": {},
   "source": [
    "# **<span style=\"color:#F7B2B0;\">Distribution of Numeric Variables</span>**"
   ]
  },
  {
   "cell_type": "code",
   "execution_count": null,
   "metadata": {
    "execution": {
     "iopub.execute_input": "2022-01-07T17:05:09.438929Z",
     "iopub.status.busy": "2022-01-07T17:05:09.438054Z",
     "iopub.status.idle": "2022-01-07T17:05:52.20299Z",
     "shell.execute_reply": "2022-01-07T17:05:52.202343Z",
     "shell.execute_reply.started": "2022-01-07T17:05:09.438883Z"
    }
   },
   "outputs": [],
   "source": [
    "# plot distributions of features\n",
    "for feature in numerical_features:\n",
    "    if feature != \"site_eui\":\n",
    "        kdeplot_features(train,test, feature=feature, title = feature + \" distribution\")"
   ]
  },
  {
   "cell_type": "markdown",
   "metadata": {},
   "source": [
    "# **<span style=\"color:#F7B2B0;\">Distribution of Categorical Variables</span>**"
   ]
  },
  {
   "cell_type": "code",
   "execution_count": null,
   "metadata": {
    "execution": {
     "iopub.execute_input": "2022-01-07T17:05:52.204672Z",
     "iopub.status.busy": "2022-01-07T17:05:52.20429Z",
     "iopub.status.idle": "2022-01-07T17:05:53.773617Z",
     "shell.execute_reply": "2022-01-07T17:05:53.772263Z",
     "shell.execute_reply.started": "2022-01-07T17:05:52.204643Z"
    }
   },
   "outputs": [],
   "source": [
    "# plot distributions of categorical features\n",
    "for feature in categorical_features:\n",
    "    fig = countplot_features(train, feature=feature, title = \"Frequency of \"+ feature)"
   ]
  },
  {
   "cell_type": "code",
   "execution_count": null,
   "metadata": {
    "_kg_hide-output": true
   },
   "outputs": [],
   "source": [
    "# Log Plots to W&B environment\n",
    "title = \"Distribution of Numerical features\"\n",
    "run = wandb.init(project='WiDSDatathon2022', name=title,anonymous=anony,config=CONFIG)\n",
    "for feature in numerical_features:\n",
    "    if feature != \"site_eui\":\n",
    "        title = \"Distribution of Numerical \"+feature    \n",
    "        create_wandb_hist(x_data=train[feature],x_name=feature , title=title,log=\"hist\")    \n",
    "wandb.finish()\n",
    "\n",
    "title = \"Countplot Distribution\"\n",
    "run = wandb.init(project='WiDSDatathon2022', name=title,anonymous=anony,config=CONFIG)    \n",
    "for feature in categorical_features:\n",
    "    #fig = countplot_features(train, feature=feature, title = feature + \" countplot distribution\")\n",
    "    wandb.log({feature + \" countplot distribution\": fig})\n",
    "wandb.finish()"
   ]
  },
  {
   "cell_type": "code",
   "execution_count": null,
   "metadata": {
    "execution": {
     "iopub.execute_input": "2022-01-07T17:10:36.525862Z",
     "iopub.status.busy": "2022-01-07T17:10:36.525629Z",
     "iopub.status.idle": "2022-01-07T17:10:36.552798Z",
     "shell.execute_reply": "2022-01-07T17:10:36.551681Z",
     "shell.execute_reply.started": "2022-01-07T17:10:36.525836Z"
    }
   },
   "outputs": [],
   "source": [
    "target = train[\"site_eui\"]\n",
    "train = train.drop([\"site_eui\",\"id\"],axis =1)\n",
    "test = test.drop([\"id\"],axis =1)"
   ]
  },
  {
   "cell_type": "markdown",
   "metadata": {},
   "source": [
    "# **<span style=\"color:#F7B2B0;\">Missing Values Imputation</span>**"
   ]
  },
  {
   "cell_type": "code",
   "execution_count": null,
   "metadata": {
    "execution": {
     "iopub.execute_input": "2022-01-07T17:10:36.554792Z",
     "iopub.status.busy": "2022-01-07T17:10:36.554514Z",
     "iopub.status.idle": "2022-01-07T17:10:36.575878Z",
     "shell.execute_reply": "2022-01-07T17:10:36.574809Z",
     "shell.execute_reply.started": "2022-01-07T17:10:36.55476Z"
    }
   },
   "outputs": [],
   "source": [
    "#code copied from https://www.kaggle.com/shrutisaxena/wids2022-starter-code\n",
    "\n",
    "# year_built: replace with current year.\n",
    "train['year_built'] =train['year_built'].replace(np.nan, 2022)\n",
    "#replacing rest of the values with mean\n",
    "train['energy_star_rating']=train['energy_star_rating'].replace(np.nan,train['energy_star_rating'].mean())\n",
    "train['direction_max_wind_speed']= train['direction_max_wind_speed'].replace(np.nan,train['direction_max_wind_speed'].mean())\n",
    "train['direction_peak_wind_speed']= train['direction_peak_wind_speed'].replace(np.nan,train['direction_peak_wind_speed'].mean())\n",
    "train['max_wind_speed']=train['max_wind_speed'].replace(np.nan,train['max_wind_speed'].mean())\n",
    "train['days_with_fog']=train['days_with_fog'].replace(np.nan,train['days_with_fog'].mean())\n",
    "\n",
    "##for testdata\n",
    "\n",
    "# year_built: replace with current year.\n",
    "test['year_built'] =test['year_built'].replace(np.nan, 2022)\n",
    "#replacing rest of the values with mean\n",
    "test['energy_star_rating']=test['energy_star_rating'].replace(np.nan,test['energy_star_rating'].mean())\n",
    "test['direction_max_wind_speed']= test['direction_max_wind_speed'].replace(np.nan,test['direction_max_wind_speed'].mean())\n",
    "test['direction_peak_wind_speed']= test['direction_peak_wind_speed'].replace(np.nan,test['direction_peak_wind_speed'].mean())\n",
    "test['max_wind_speed']=test['max_wind_speed'].replace(np.nan,test['max_wind_speed'].mean())\n",
    "test['days_with_fog']=test['days_with_fog'].replace(np.nan,test['days_with_fog'].mean())"
   ]
  },
  {
   "cell_type": "markdown",
   "metadata": {},
   "source": [
    "# **<span style=\"color:#F7B2B0;\">Label Encoding</span>**"
   ]
  },
  {
   "cell_type": "code",
   "execution_count": null,
   "metadata": {
    "execution": {
     "iopub.execute_input": "2022-01-07T17:10:36.577375Z",
     "iopub.status.busy": "2022-01-07T17:10:36.577137Z",
     "iopub.status.idle": "2022-01-07T17:10:36.637624Z",
     "shell.execute_reply": "2022-01-07T17:10:36.637022Z",
     "shell.execute_reply.started": "2022-01-07T17:10:36.577346Z"
    }
   },
   "outputs": [],
   "source": [
    "le = LabelEncoder()\n",
    "\n",
    "train['State_Factor']= le.fit_transform(train['State_Factor']).astype(\"uint8\")\n",
    "test['State_Factor']= le.fit_transform(test['State_Factor']).astype(\"uint8\")\n",
    "\n",
    "train['building_class']= le.fit_transform(train['building_class']).astype(\"uint8\")\n",
    "test['building_class']= le.fit_transform(test['building_class']).astype(\"uint8\")\n",
    "\n",
    "train['facility_type']= le.fit_transform(train['facility_type']).astype(\"uint8\")\n",
    "test['facility_type']= le.fit_transform(test['facility_type']).astype(\"uint8\")"
   ]
  },
  {
   "cell_type": "markdown",
   "metadata": {},
   "source": [
    "# **<span style=\"color:#F7B2B0;\">W & B Artifacts</span>**\n",
    "\n",
    "An artifact as a versioned folder of data.Entire datasets can be directly stored as artifacts .\n",
    "\n",
    "W&B Artifacts are used for dataset versioning, model versioning . They are also used for tracking dependencies and results across machine learning pipelines.Artifact references can be used to point to data in other systems like S3, GCP, or your own system.\n",
    "\n",
    "You can learn more about W&B artifacts [here](https://docs.wandb.ai/guides/artifacts)\n",
    "\n",
    "![](https://drive.google.com/uc?id=1JYSaIMXuEVBheP15xxuaex-32yzxgglV)"
   ]
  },
  {
   "cell_type": "code",
   "execution_count": null,
   "metadata": {},
   "outputs": [],
   "source": [
    "# Save train data to W&B Artifacts\n",
    "train.to_csv(\"train_features.csv\", index = False)\n",
    "run = wandb.init(project='WiDSDatathon2022', name='training_data', anonymous=anony,config=CONFIG) \n",
    "artifact = wandb.Artifact(name='training_data',type='dataset')\n",
    "artifact.add_file(\"./train_features.csv\")\n",
    "\n",
    "wandb.log_artifact(artifact)\n",
    "wandb.finish()"
   ]
  },
  {
   "cell_type": "markdown",
   "metadata": {},
   "source": [
    "# **<span style=\"color:#F7B2B0;\">Feature Scaling</span>**"
   ]
  },
  {
   "cell_type": "code",
   "execution_count": null,
   "metadata": {
    "execution": {
     "iopub.execute_input": "2022-01-07T17:10:55.222544Z",
     "iopub.status.busy": "2022-01-07T17:10:55.222016Z",
     "iopub.status.idle": "2022-01-07T17:10:55.388169Z",
     "shell.execute_reply": "2022-01-07T17:10:55.387147Z",
     "shell.execute_reply.started": "2022-01-07T17:10:55.2225Z"
    }
   },
   "outputs": [],
   "source": [
    "trainnames = copy.deepcopy(train)\n",
    "scaler = StandardScaler()\n",
    "train = scaler.fit_transform(train)\n",
    "test = scaler.transform(test)\n"
   ]
  },
  {
   "cell_type": "markdown",
   "metadata": {},
   "source": [
    "# **<span style=\"color:#F7B2B0;\">Hyperparameter Tuning Using Optuna</span>**\n",
    "\n",
    "[Source](https://github.com/optuna/optuna)\n",
    "\n",
    "Optuna is an automatic hyperparameter optimization software framework, particularly designed for machine learning. It features an imperative, define-by-run style user API. The code written with Optuna enjoys high modularity, and the user of Optuna can dynamically construct the search spaces for the hyperparameters.\n",
    "\n",
    "**Key Features**\n",
    "\n",
    "Optuna has modern functionalities as follows:\n",
    "\n",
    "📌 **Lightweight, versatile, and platform agnostic architecture**\n",
    "\n",
    "Handle a wide variety of tasks with a simple installation that has few requirements.\n",
    "\n",
    "📌 **Pythonic search spaces**\n",
    "\n",
    "Define search spaces using familiar Python syntax including conditionals and loops.\n",
    "\n",
    "📌 **Efficient optimization algorithms**\n",
    "\n",
    "Adopt state-of-the-art algorithms for sampling hyperparameters and efficiently pruning unpromising trials.\n",
    "\n",
    "📌 **Easy parallelization**\n",
    "\n",
    "Scale studies to tens or hundreds or workers with little or no changes to the code.\n",
    "\n",
    "📌 **Quick visualization**\n",
    "\n",
    "Inspect optimization histories from a variety of plotting functions."
   ]
  },
  {
   "cell_type": "code",
   "execution_count": null,
   "metadata": {
    "_kg_hide-output": true
   },
   "outputs": [],
   "source": [
    "rkf = RepeatedKFold(n_splits=3, n_repeats=3, random_state=42)\n",
    "\n",
    "params = {\n",
    "        \"objective\": \"binary\",\n",
    "        \"metric\": \"binary_error\",\n",
    "        \"verbosity\": -1,\n",
    "        \"boosting_type\": \"gbdt\",                \n",
    "        \"seed\": 42\n",
    "    }\n",
    "\n",
    "X = copy.deepcopy(train)  \n",
    "y = copy.deepcopy(target)\n",
    "\n",
    "study_tuner = optuna.create_study(direction='minimize')\n",
    "dtrain = lgbm.Dataset(X, label=y)\n",
    "\n",
    "# Suppress information only outputs - otherwise optuna is \n",
    "# quite verbose, which can be nice, but takes up a lot of space\n",
    "optuna.logging.set_verbosity(optuna.logging.WARNING) \n",
    "\n",
    "# Run optuna LightGBMTunerCV tuning of LightGBM with cross-validation\n",
    "tuner = lgbm.LightGBMTunerCV(params, \n",
    "                            dtrain, \n",
    "                            study=study_tuner,\n",
    "                            verbose_eval=False,                            \n",
    "                            early_stopping_rounds=250,\n",
    "                            time_budget=19800, # Time budget of 5 hours, we will not really need it\n",
    "                            seed = 42,\n",
    "                            folds=rkf,\n",
    "                            num_boost_round=10000,\n",
    "                            callbacks=[lgbm.reset_parameter(learning_rate = [0.005]*200 + [0.001]*9800) ] #[0.1]*5 + [0.05]*15 + [0.01]*45 + \n",
    "                           )\n",
    "\n",
    "tuner.run()"
   ]
  },
  {
   "cell_type": "code",
   "execution_count": null,
   "metadata": {
    "execution": {
     "iopub.execute_input": "2022-01-07T17:12:55.548169Z",
     "iopub.status.busy": "2022-01-07T17:12:55.547713Z",
     "iopub.status.idle": "2022-01-07T17:12:55.555387Z",
     "shell.execute_reply": "2022-01-07T17:12:55.554492Z",
     "shell.execute_reply.started": "2022-01-07T17:12:55.548127Z"
    }
   },
   "outputs": [],
   "source": [
    "print(tuner.best_params)\n",
    "# Classification error\n",
    "print(tuner.best_score)\n",
    "# Or expressed as accuracy\n",
    "print(1.0-tuner.best_score)"
   ]
  },
  {
   "cell_type": "markdown",
   "metadata": {},
   "source": [
    "# **<span style=\"color:#F7B2B0;\">LightGBM</span>**\n",
    "\n",
    "[Source](https://github.com/microsoft/LightGBM)\n",
    "\n",
    "**LightGBM** is a gradient boosting framework that uses tree based learning algorithms. It is designed to be distributed and efficient with the following advantages:\n",
    "\n",
    "📌 **Faster training speed and higher efficiency.**\n",
    "\n",
    "📌 **Lower memory usage.**\n",
    "\n",
    "📌 **Better accuracy.**\n",
    "\n",
    "📌 **Support of parallel, distributed, and GPU learning.**\n",
    "\n",
    "📌 **Capable of handling large-scale data.**\n",
    "\n",
    "\n",
    "**LightGBM** is being widely-used in many winning solutions of machine learning competitions.\n",
    "\n",
    "Comparison experiments on public datasets show that LightGBM can outperform existing boosting frameworks on both efficiency and accuracy, with significantly lower memory consumption. \n",
    "\n"
   ]
  },
  {
   "cell_type": "code",
   "execution_count": null,
   "metadata": {
    "_kg_hide-output": true
   },
   "outputs": [],
   "source": [
    "num_folds = 5\n",
    "kf = KFold(n_splits = num_folds, random_state = 42)\n",
    "error = 0\n",
    "models = []\n",
    "for i, (train_index, val_index) in enumerate(kf.split(train)):\n",
    "    if i + 1 < num_folds:\n",
    "        continue\n",
    "    print(train_index.max(), val_index.min())\n",
    "    train_X = train[train_index]\n",
    "    val_X = train[val_index]\n",
    "    train_y = target[train_index]\n",
    "    val_y = target[val_index]\n",
    "    lgb_train = lgb.Dataset(train_X, train_y > 0)\n",
    "    lgb_eval = lgb.Dataset(val_X, val_y > 0)\n",
    "    params = {\n",
    "            'boosting_type': 'gbdt',\n",
    "            'objective': 'regression',\n",
    "            'metric': {'rmse'},\n",
    "            'learning_rate': 0.1,\n",
    "            'feature_fraction': 0.8,\n",
    "            'bagging_fraction': 1.0,\n",
    "            'bagging_freq' : 0\n",
    "             \n",
    "            }\n",
    "    gbm_class = lgb.train(params,\n",
    "                lgb_train,\n",
    "                num_boost_round=2000,\n",
    "                valid_sets=(lgb_train, lgb_eval),\n",
    "               early_stopping_rounds=20,\n",
    "               verbose_eval = 20)\n",
    "    \n",
    "    lgb_train = lgb.Dataset(train_X[train_y > 0], train_y[train_y > 0])\n",
    "    lgb_eval = lgb.Dataset(val_X[val_y > 0] , val_y[val_y > 0])\n",
    "    params = {\n",
    "            'boosting_type': 'gbdt',\n",
    "            'objective': 'regression',\n",
    "            'metric': {'rmse'},\n",
    "            'learning_rate': 0.1,\n",
    "            'feature_fraction': 0.8,\n",
    "            'bagging_fraction': 1.0,\n",
    "            'bagging_freq' : 0\n",
    "                         }\n",
    "    gbm_regress = lgb.train(params,\n",
    "                lgb_train,\n",
    "                num_boost_round=2000,\n",
    "                valid_sets=(lgb_train, lgb_eval),\n",
    "               early_stopping_rounds=20,\n",
    "               verbose_eval = 20)\n",
    "#     models.append(gbm)\n",
    "\n",
    "    y_pred = (gbm_class.predict(val_X, num_iteration=gbm_class.best_iteration) > .5) *\\\n",
    "    (gbm_regress.predict(val_X, num_iteration=gbm_regress.best_iteration))\n",
    "    error += np.sqrt(mean_squared_error(y_pred, (val_y)))/num_folds\n",
    "    print(np.sqrt(mean_squared_error(y_pred, (val_y))))\n",
    "    break\n",
    "print(error)\n"
   ]
  },
  {
   "cell_type": "markdown",
   "metadata": {},
   "source": [
    "# **<span style=\"color:#F7B2B0;\">Feature Importance</span>**"
   ]
  },
  {
   "cell_type": "code",
   "execution_count": null,
   "metadata": {
    "execution": {
     "iopub.execute_input": "2022-01-07T17:12:56.557451Z",
     "iopub.status.busy": "2022-01-07T17:12:56.556989Z",
     "iopub.status.idle": "2022-01-07T17:12:57.315189Z",
     "shell.execute_reply": "2022-01-07T17:12:57.314337Z",
     "shell.execute_reply.started": "2022-01-07T17:12:56.557417Z"
    }
   },
   "outputs": [],
   "source": [
    "feature_imp = pd.DataFrame(sorted(zip(gbm_regress.feature_importance(), trainnames.columns),reverse = True), columns=['Value','Feature'])\n",
    "feature_imp = feature_imp[feature_imp.Value != 0]\n",
    "plt.figure(figsize=(20, 10))\n",
    "sns.barplot(x=\"Value\", y=\"Feature\", data=feature_imp.sort_values(by=\"Value\", ascending=False))\n",
    "plt.title('LightGBM Feature Importance')\n",
    "plt.tight_layout()\n",
    "plt.show()\n",
    "plt.savefig('lgbm_importances-01.png')"
   ]
  },
  {
   "cell_type": "markdown",
   "metadata": {},
   "source": [
    "# **<span style=\"color:#F7B2B0;\">SHAP VALUES</span>**\n",
    "\n",
    "**SHAP (SHapley Additive exPlanations**) is a game theoretic approach to explain the output of any machine learning model. It connects optimal credit allocation with local explanations using the classic Shapley values from game theory and their related extensions"
   ]
  },
  {
   "cell_type": "code",
   "execution_count": null,
   "metadata": {
    "execution": {
     "iopub.execute_input": "2022-01-07T17:12:57.316519Z",
     "iopub.status.busy": "2022-01-07T17:12:57.316285Z",
     "iopub.status.idle": "2022-01-07T17:13:12.112789Z",
     "shell.execute_reply": "2022-01-07T17:13:12.111925Z",
     "shell.execute_reply.started": "2022-01-07T17:12:57.316491Z"
    }
   },
   "outputs": [],
   "source": [
    "shap_values = shap.TreeExplainer(gbm_regress).shap_values(trainnames)\n",
    "shap.summary_plot(shap_values, trainnames)"
   ]
  },
  {
   "cell_type": "markdown",
   "metadata": {},
   "source": [
    "# **<span style=\"color:#F7B2B0;\">Prediction on Test Data</span>**"
   ]
  },
  {
   "cell_type": "code",
   "execution_count": null,
   "metadata": {
    "execution": {
     "iopub.execute_input": "2022-01-07T17:13:12.114429Z",
     "iopub.status.busy": "2022-01-07T17:13:12.11414Z",
     "iopub.status.idle": "2022-01-07T17:13:12.131125Z",
     "shell.execute_reply": "2022-01-07T17:13:12.126961Z",
     "shell.execute_reply.started": "2022-01-07T17:13:12.114394Z"
    }
   },
   "outputs": [],
   "source": [
    "res = gbm_regress.predict(test)"
   ]
  },
  {
   "cell_type": "markdown",
   "metadata": {},
   "source": [
    "# **<span style=\"color:#F7B2B0;\">Making Submission</span>**"
   ]
  },
  {
   "cell_type": "code",
   "execution_count": null,
   "metadata": {
    "execution": {
     "iopub.execute_input": "2022-01-07T17:13:12.132571Z",
     "iopub.status.busy": "2022-01-07T17:13:12.13234Z",
     "iopub.status.idle": "2022-01-07T17:13:12.174564Z",
     "shell.execute_reply": "2022-01-07T17:13:12.173716Z",
     "shell.execute_reply.started": "2022-01-07T17:13:12.132542Z"
    }
   },
   "outputs": [],
   "source": [
    "\n",
    "sub = pd.read_csv(\"../input/widsdatathon2022/sample_solution.csv\")\n",
    "sub[\"site_eui\"] = res\n",
    "sub.to_csv(\"submission.csv\", index = False)"
   ]
  },
  {
   "cell_type": "markdown",
   "metadata": {},
   "source": [
    "## References :\n",
    "\n",
    "https://www.kaggle.com/shrutisaxena/wids2022-starter-code"
   ]
  },
  {
   "cell_type": "markdown",
   "metadata": {},
   "source": [
    "# Work in progress 🚧"
   ]
  }
 ],
 "metadata": {
  "kernelspec": {
   "display_name": "Python 3",
   "language": "python",
   "name": "python3"
  },
  "language_info": {
   "codemirror_mode": {
    "name": "ipython",
    "version": 3
   },
   "file_extension": ".py",
   "mimetype": "text/x-python",
   "name": "python",
   "nbconvert_exporter": "python",
   "pygments_lexer": "ipython3",
   "version": "3.8.3"
  }
 },
 "nbformat": 4,
 "nbformat_minor": 4
}
